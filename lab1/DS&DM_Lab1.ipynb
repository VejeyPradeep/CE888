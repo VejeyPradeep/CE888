{
  "nbformat": 4,
  "nbformat_minor": 0,
  "metadata": {
    "colab": {
      "name": "DS&DM_Lab1.ipynb",
      "provenance": [],
      "collapsed_sections": [],
      "authorship_tag": "ABX9TyN+majChlgW8tNpWG5/hxbi",
      "include_colab_link": true
    },
    "kernelspec": {
      "name": "python3",
      "display_name": "Python 3"
    }
  },
  "cells": [
    {
      "cell_type": "markdown",
      "metadata": {
        "id": "view-in-github",
        "colab_type": "text"
      },
      "source": [
        "<a href=\"https://colab.research.google.com/github/VejeyPradeep/CE888/blob/master/lab1/DS%26DM_Lab1.ipynb\" target=\"_parent\"><img src=\"https://colab.research.google.com/assets/colab-badge.svg\" alt=\"Open In Colab\"/></a>"
      ]
    },
    {
      "cell_type": "markdown",
      "metadata": {
        "id": "TJsHDVU--dw2",
        "colab_type": "text"
      },
      "source": [
        "[1] Creating and printing attributes of a 4x2 numpy array"
      ]
    },
    {
      "cell_type": "code",
      "metadata": {
        "id": "n-S9-N8Z1XlF",
        "colab_type": "code",
        "outputId": "89e3898e-d471-4a81-f4ab-2d40989d9ebb",
        "colab": {
          "base_uri": "https://localhost:8080/",
          "height": 119
        }
      },
      "source": [
        "import numpy as np\n",
        "a = np.array([[0,1],[2,3],[4,5],[6,7]])\n",
        "print(a.ndim)\n",
        "print(a.shape)\n",
        "print(a)"
      ],
      "execution_count": 0,
      "outputs": [
        {
          "output_type": "stream",
          "text": [
            "2\n",
            "(4, 2)\n",
            "[[0 1]\n",
            " [2 3]\n",
            " [4 5]\n",
            " [6 7]]\n"
          ],
          "name": "stdout"
        }
      ]
    },
    {
      "cell_type": "markdown",
      "metadata": {
        "id": "5pSkht65_BD3",
        "colab_type": "text"
      },
      "source": [
        "[2] Create an array of dimension (1,10) and sort it in ascending and descending order"
      ]
    },
    {
      "cell_type": "code",
      "metadata": {
        "id": "4dn5aokX9_03",
        "colab_type": "code",
        "outputId": "1d3a7e31-4673-4e09-9535-8b5180f8c43c",
        "colab": {
          "base_uri": "https://localhost:8080/",
          "height": 51
        }
      },
      "source": [
        "b = np.array([1,5,2,4,3,6,7,8,9,0])\n",
        "print('ascending order--->',np.sort(b))\n",
        "print('descending order--->', np.sort(b)[::-1])"
      ],
      "execution_count": 0,
      "outputs": [
        {
          "output_type": "stream",
          "text": [
            "ascending order---> [0 1 2 3 4 5 6 7 8 9]\n",
            "descending order---> [9 8 7 6 5 4 3 2 1 0]\n"
          ],
          "name": "stdout"
        }
      ]
    },
    {
      "cell_type": "markdown",
      "metadata": {
        "id": "4HkO28v9B5qx",
        "colab_type": "text"
      },
      "source": [
        "[3] Convert an 1D array [1 2 3 4 5 6 7 8 9] to 2D array [[1 2 3], [4 5 6], [7 8 9]]"
      ]
    },
    {
      "cell_type": "code",
      "metadata": {
        "id": "fxipWNiEAD11",
        "colab_type": "code",
        "outputId": "3866163e-a961-40a6-b4bc-6e66713d66df",
        "colab": {
          "base_uri": "https://localhost:8080/",
          "height": 34
        }
      },
      "source": [
        "c = np.array([1,2,3,4,5,6,7,8,9])\n",
        "c = np.split(c,3)\n",
        "print(c)"
      ],
      "execution_count": 0,
      "outputs": [
        {
          "output_type": "stream",
          "text": [
            "[array([1, 2, 3]), array([4, 5, 6]), array([7, 8, 9])]\n"
          ],
          "name": "stdout"
        }
      ]
    },
    {
      "cell_type": "markdown",
      "metadata": {
        "id": "m1_Ih57kELja",
        "colab_type": "text"
      },
      "source": [
        "[4] Stack two arrays of any size horizontally and vertically"
      ]
    },
    {
      "cell_type": "code",
      "metadata": {
        "id": "QXI1Xe_rCQeq",
        "colab_type": "code",
        "outputId": "81b421f3-382b-465f-c35d-806e4476fffe",
        "colab": {
          "base_uri": "https://localhost:8080/",
          "height": 102
        }
      },
      "source": [
        "d = np.array([1,2,3])\n",
        "e = np.array([7,8,9])\n",
        "print('vertical stack--->',np.stack((d,e)))\n",
        "print('horizontal stack--->',np.stack((d,e),axis = -1))"
      ],
      "execution_count": 0,
      "outputs": [
        {
          "output_type": "stream",
          "text": [
            "vertical stack---> [[1 2 3]\n",
            " [7 8 9]]\n",
            "horizontal stack---> [[1 7]\n",
            " [2 8]\n",
            " [3 9]]\n"
          ],
          "name": "stdout"
        }
      ]
    },
    {
      "cell_type": "markdown",
      "metadata": {
        "id": "TlmROg0yG-Sj",
        "colab_type": "text"
      },
      "source": [
        "[5] Create two array of same size and find commom elements"
      ]
    },
    {
      "cell_type": "code",
      "metadata": {
        "id": "B-7MzRzzFUEc",
        "colab_type": "code",
        "outputId": "375cfc8f-317c-4e9e-bc4f-6795814fc016",
        "colab": {
          "base_uri": "https://localhost:8080/",
          "height": 34
        }
      },
      "source": [
        "g= np.array([1,2,8,3,4])\n",
        "h= np.array([5,4,6,7,8])\n",
        "np.intersect1d(g,h)\n",
        "\n"
      ],
      "execution_count": 0,
      "outputs": [
        {
          "output_type": "execute_result",
          "data": {
            "text/plain": [
              "array([4, 8])"
            ]
          },
          "metadata": {
            "tags": []
          },
          "execution_count": 38
        }
      ]
    },
    {
      "cell_type": "markdown",
      "metadata": {
        "id": "xV-vLmgXI40L",
        "colab_type": "text"
      },
      "source": [
        "[6] Create a 2D array of 5 by 5 and find the min and max values from each row and each column"
      ]
    },
    {
      "cell_type": "code",
      "metadata": {
        "id": "64VgEcd6I00D",
        "colab_type": "code",
        "outputId": "33808159-7d52-4b62-b92f-427fdb80d9af",
        "colab": {
          "base_uri": "https://localhost:8080/",
          "height": 306
        }
      },
      "source": [
        "j = np.arange(25).reshape(5,5)\n",
        "print(j)\n",
        "print('max in column--->',j.max(axis=0))\n",
        "print('min in column--->',j.min(axis=0))\n",
        "\n",
        "for i in j:\n",
        "  print('max in row--->',np.amax(i))\n",
        "  print('min in row--->',np.amin(i))"
      ],
      "execution_count": 0,
      "outputs": [
        {
          "output_type": "stream",
          "text": [
            "[[ 0  1  2  3  4]\n",
            " [ 5  6  7  8  9]\n",
            " [10 11 12 13 14]\n",
            " [15 16 17 18 19]\n",
            " [20 21 22 23 24]]\n",
            "max in column---> [20 21 22 23 24]\n",
            "min in column---> [0 1 2 3 4]\n",
            "max in row---> 4\n",
            "min in row---> 0\n",
            "max in row---> 9\n",
            "min in row---> 5\n",
            "max in row---> 14\n",
            "min in row---> 10\n",
            "max in row---> 19\n",
            "min in row---> 15\n",
            "max in row---> 24\n",
            "min in row---> 20\n"
          ],
          "name": "stdout"
        }
      ]
    },
    {
      "cell_type": "markdown",
      "metadata": {
        "id": "hXGqU3D5NQaY",
        "colab_type": "text"
      },
      "source": [
        "[7] Create an array of size 100 and  compute the mean, median, standard deviation."
      ]
    },
    {
      "cell_type": "code",
      "metadata": {
        "id": "P3CCk62pJSGG",
        "colab_type": "code",
        "outputId": "75cfffeb-6456-4c11-fa43-fb70e52aac1b",
        "colab": {
          "base_uri": "https://localhost:8080/",
          "height": 170
        }
      },
      "source": [
        "array = np.random.randint(200, size = 100)\n",
        "print(array)\n",
        "print('mean--->', np.mean(array))\n",
        "print('median-->',np.median(array))\n",
        "print('std deviation-->', np.std(array))"
      ],
      "execution_count": 0,
      "outputs": [
        {
          "output_type": "stream",
          "text": [
            "[ 61 103  65 118  46 181 183 160  54  43  54  93  18 122 148 184   6  99\n",
            "  35  31 156 148  82  37  44  63 128 126 175 137  35  64  41  39  73 187\n",
            "  49  97 143  26  20 134  63  47  72 147  77  29  64 121 117 160  12 199\n",
            "  12 112  65  37 126 101  44  55 184  97  99 114  65  94  45 159  12 155\n",
            " 132  34  83  57  74 177 179 139  44 118 150  81  44 183 123  46  91  95\n",
            " 113  92 189  23   3 105 130  37 159  29]\n",
            "mean---> 92.22\n",
            "median--> 91.5\n",
            "std deviation--> 52.86181608685044\n"
          ],
          "name": "stdout"
        }
      ]
    },
    {
      "cell_type": "markdown",
      "metadata": {
        "id": "wox7uRaAOpkd",
        "colab_type": "text"
      },
      "source": [
        "[8] Normalize a 5x5 random matrix "
      ]
    },
    {
      "cell_type": "code",
      "metadata": {
        "id": "KIk_MNv9OSai",
        "colab_type": "code",
        "outputId": "e885d3b2-cda3-4592-cc0a-28c335667e8e",
        "colab": {
          "base_uri": "https://localhost:8080/",
          "height": 187
        }
      },
      "source": [
        "arr = np.random.randint(0, 100, (5,5))\n",
        "print(arr)\n",
        "from sklearn.preprocessing import normalize\n",
        "normed_matrix = normalize(arr, axis=1, norm='l2')\n",
        "print(normed_matrix)"
      ],
      "execution_count": 0,
      "outputs": [
        {
          "output_type": "stream",
          "text": [
            "[[58  1 30 72 80]\n",
            " [13 81 20 51 25]\n",
            " [92 53 80 45 63]\n",
            " [49 61 25 13 37]\n",
            " [74 25 29 73 88]]\n",
            "[[0.46070939 0.00794327 0.23829796 0.5719151  0.63546122]\n",
            " [0.12774601 0.79595588 0.19653232 0.50115741 0.2456654 ]\n",
            " [0.59802071 0.34451193 0.52001801 0.29251013 0.40951418]\n",
            " [0.53833154 0.67016783 0.27465895 0.14282265 0.40649524]\n",
            " [0.52306291 0.17671044 0.20498411 0.51599449 0.62202075]]\n"
          ],
          "name": "stdout"
        }
      ]
    },
    {
      "cell_type": "markdown",
      "metadata": {
        "id": "f4RbEERVQKEa",
        "colab_type": "text"
      },
      "source": [
        "[9] Consider an array of dimension (4,4,3), how to mulitply it by an array with dimensions (4,4)?"
      ]
    },
    {
      "cell_type": "code",
      "metadata": {
        "id": "tEQZ_UgrO5DL",
        "colab_type": "code",
        "outputId": "3fe36ada-a8e2-43b0-e0cf-efe0fc61c993",
        "colab": {
          "base_uri": "https://localhost:8080/",
          "height": 340
        }
      },
      "source": [
        "arry1 = np.random.randint(99, size=(4,4,3))\n",
        "arry2 = np.random.randint(99 , size = (4,4))\n",
        "print(arry1 * arry2[:,:,None])"
      ],
      "execution_count": 0,
      "outputs": [
        {
          "output_type": "stream",
          "text": [
            "[[[ 368 5704  460]\n",
            "  [ 132  594 1254]\n",
            "  [ 405  324 7128]\n",
            "  [1950 3276 2847]]\n",
            "\n",
            " [[ 776  970  291]\n",
            "  [ 448  408  752]\n",
            "  [ 679  581  476]\n",
            "  [2697   31 2635]]\n",
            "\n",
            " [[1305 2639 1798]\n",
            "  [2142 2772 3969]\n",
            "  [ 340 2754 1428]\n",
            "  [ 220  490  470]]\n",
            "\n",
            " [[ 270 2520 3240]\n",
            "  [2812 6808 2368]\n",
            "  [ 108 2160 1917]\n",
            "  [1554 3552 3626]]]\n"
          ],
          "name": "stdout"
        }
      ]
    },
    {
      "cell_type": "code",
      "metadata": {
        "id": "2EsOhjB3QyUJ",
        "colab_type": "code",
        "colab": {}
      },
      "source": [
        ""
      ],
      "execution_count": 0,
      "outputs": []
    }
  ]
}