{
  "nbformat": 4,
  "nbformat_minor": 0,
  "metadata": {
    "colab": {
      "name": "Lab10.ipynb",
      "provenance": [],
      "authorship_tag": "ABX9TyP8bjh48E8L87JzhuKkCrhw",
      "include_colab_link": true
    },
    "kernelspec": {
      "name": "python3",
      "display_name": "Python 3"
    }
  },
  "cells": [
    {
      "cell_type": "markdown",
      "metadata": {
        "id": "view-in-github",
        "colab_type": "text"
      },
      "source": [
        "<a href=\"https://colab.research.google.com/github/VejeyPradeep/CE888/blob/master/lab10/Lab10.ipynb\" target=\"_parent\"><img src=\"https://colab.research.google.com/assets/colab-badge.svg\" alt=\"Open In Colab\"/></a>"
      ]
    },
    {
      "cell_type": "code",
      "metadata": {
        "id": "weGXxEPP32Vp",
        "colab_type": "code",
        "colab": {
          "base_uri": "https://localhost:8080/",
          "height": 118
        },
        "outputId": "ef9020a4-8cb6-40db-8918-98ece184eb6b"
      },
      "source": [
        "!git clone https://github.com/Ajithvajrala23/CE888_Lab_ML_Deployment.git"
      ],
      "execution_count": 1,
      "outputs": [
        {
          "output_type": "stream",
          "text": [
            "Cloning into 'CE888_Lab_ML_Deployment'...\n",
            "remote: Enumerating objects: 4805, done.\u001b[K\n",
            "remote: Total 4805 (delta 0), reused 0 (delta 0), pack-reused 4805\u001b[K\n",
            "Receiving objects: 100% (4805/4805), 54.00 MiB | 22.57 MiB/s, done.\n",
            "Resolving deltas: 100% (363/363), done.\n",
            "Checking out files: 100% (4452/4452), done.\n"
          ],
          "name": "stdout"
        }
      ]
    },
    {
      "cell_type": "code",
      "metadata": {
        "id": "SmEm0QXh4N1t",
        "colab_type": "code",
        "colab": {}
      },
      "source": [
        ""
      ],
      "execution_count": 0,
      "outputs": []
    }
  ]
}